{
 "cells": [
  {
   "cell_type": "code",
   "execution_count": 2,
   "metadata": {},
   "outputs": [],
   "source": [
    "import pandas as pd\n",
    "from pandas import Series, DataFrame\n",
    "\n",
    "# get titanic & test csv files as a pandas DataFrame\n",
    "iris_df = pd.read_csv(\"iris.csv\")\n",
    "print(\"......Printing the IRIS DataFrame completely.....\")\n",
    "print(iris_df)\n",
    "print(\".............Printing the Info.....\")\n",
    "iris_df.info()\n",
    "print(\"........Describing.....\")\n",
    "iris_df.describe()\n"
   ]
  }
 ],
 "metadata": {
  "kernelspec": {
   "display_name": "Python 3",
   "language": "python",
   "name": "python3"
  },
  "language_info": {
   "codemirror_mode": {
    "name": "ipython",
    "version": 3
   },
   "file_extension": ".py",
   "mimetype": "text/x-python",
   "name": "python",
   "nbconvert_exporter": "python",
   "pygments_lexer": "ipython3",
   "version": "3.4.3"
  }
 },
 "nbformat": 4,
 "nbformat_minor": 2
}
